{
 "cells": [
  {
   "cell_type": "code",
   "execution_count": null,
   "id": "790e1df7",
   "metadata": {},
   "outputs": [],
   "source": [
    "import cv2\n",
    " \n",
    "img = cv2.imread('test.png')\n",
    " \n",
    "with open('obj.names', 'r') as f:\n",
    "    classes = f.read().splitlines()\n",
    " \n",
    "net = cv2.dnn.readNetFromDarknet('yolov4medi.cfg', 'yolov4medi_best.weights')\n",
    " \n",
    "model = cv2.dnn_DetectionModel(net)\n",
    "model.setInputParams(scale=1 / 255, size=(416, 416), swapRB=True)\n",
    " \n",
    "classIds, scores, boxes = model.detect(img, confThreshold=0.6, nmsThreshold=0.4)\n",
    " \n",
    "for (classId, score, box) in zip(classIds, scores, boxes):\n",
    "    cv2.rectangle(img, (box[0], box[1]), (box[0] + box[2], box[1] + box[3]),\n",
    "                  color=(0, 0, 255), thickness=2)\n",
    " \n",
    "    text = '%s: %.2f' % (classes[classId], score)\n",
    "    cv2.putText(img, text, (box[0], box[1] - 5), cv2.FONT_HERSHEY_SIMPLEX, 1,\n",
    "                color=(0, 0, 255), thickness=2)\n",
    " \n",
    "cv2.imshow('Image', img)\n",
    "cv2.waitKey(0)\n",
    "cv2.destroyAllWindows()"
   ]
  }
 ],
 "metadata": {
  "kernelspec": {
   "display_name": "Python 3 (ipykernel)",
   "language": "python",
   "name": "python3"
  },
  "language_info": {
   "codemirror_mode": {
    "name": "ipython",
    "version": 3
   },
   "file_extension": ".py",
   "mimetype": "text/x-python",
   "name": "python",
   "nbconvert_exporter": "python",
   "pygments_lexer": "ipython3",
   "version": "3.9.7"
  }
 },
 "nbformat": 4,
 "nbformat_minor": 5
}
